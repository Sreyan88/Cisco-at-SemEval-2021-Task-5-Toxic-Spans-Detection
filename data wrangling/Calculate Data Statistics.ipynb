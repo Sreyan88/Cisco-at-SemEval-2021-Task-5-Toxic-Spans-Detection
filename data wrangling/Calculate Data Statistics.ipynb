{
 "cells": [
  {
   "cell_type": "code",
   "execution_count": 1,
   "metadata": {},
   "outputs": [],
   "source": [
    "# Import Libraries\n",
    "\n",
    "import pandas as pd\n",
    "import numpy as np"
   ]
  },
  {
   "cell_type": "code",
   "execution_count": 113,
   "metadata": {},
   "outputs": [],
   "source": [
    "# Import file\n",
    "\n",
    "train = pd.read_csv(\"tsd_train.csv\")"
   ]
  },
  {
   "cell_type": "code",
   "execution_count": 114,
   "metadata": {},
   "outputs": [
    {
     "data": {
      "text/html": [
       "<div>\n",
       "<style scoped>\n",
       "    .dataframe tbody tr th:only-of-type {\n",
       "        vertical-align: middle;\n",
       "    }\n",
       "\n",
       "    .dataframe tbody tr th {\n",
       "        vertical-align: top;\n",
       "    }\n",
       "\n",
       "    .dataframe thead th {\n",
       "        text-align: right;\n",
       "    }\n",
       "</style>\n",
       "<table border=\"1\" class=\"dataframe\">\n",
       "  <thead>\n",
       "    <tr style=\"text-align: right;\">\n",
       "      <th></th>\n",
       "      <th>spans</th>\n",
       "      <th>text</th>\n",
       "    </tr>\n",
       "  </thead>\n",
       "  <tbody>\n",
       "    <tr>\n",
       "      <th>0</th>\n",
       "      <td>[8, 9, 10, 11, 12, 13, 14, 15, 16, 17, 18, 19,...</td>\n",
       "      <td>Another violent and aggressive immigrant killi...</td>\n",
       "    </tr>\n",
       "    <tr>\n",
       "      <th>1</th>\n",
       "      <td>[33, 34, 35, 36, 37, 38, 39]</td>\n",
       "      <td>I am 56 years old, I am not your fucking junio...</td>\n",
       "    </tr>\n",
       "    <tr>\n",
       "      <th>2</th>\n",
       "      <td>[0, 1, 2, 3]</td>\n",
       "      <td>Damn, a whole family. Sad indeed.</td>\n",
       "    </tr>\n",
       "    <tr>\n",
       "      <th>3</th>\n",
       "      <td>[7, 8, 9, 10, 11, 12, 13, 14, 15, 16, 17]</td>\n",
       "      <td>What a knucklehead. How can anyone not know th...</td>\n",
       "    </tr>\n",
       "    <tr>\n",
       "      <th>4</th>\n",
       "      <td>[32, 33, 34, 35, 36, 37, 38]</td>\n",
       "      <td>\"who do you think should do the killing?\"\\r\\n\\...</td>\n",
       "    </tr>\n",
       "  </tbody>\n",
       "</table>\n",
       "</div>"
      ],
      "text/plain": [
       "                                               spans  \\\n",
       "0  [8, 9, 10, 11, 12, 13, 14, 15, 16, 17, 18, 19,...   \n",
       "1                       [33, 34, 35, 36, 37, 38, 39]   \n",
       "2                                       [0, 1, 2, 3]   \n",
       "3          [7, 8, 9, 10, 11, 12, 13, 14, 15, 16, 17]   \n",
       "4                       [32, 33, 34, 35, 36, 37, 38]   \n",
       "\n",
       "                                                text  \n",
       "0  Another violent and aggressive immigrant killi...  \n",
       "1  I am 56 years old, I am not your fucking junio...  \n",
       "2                  Damn, a whole family. Sad indeed.  \n",
       "3  What a knucklehead. How can anyone not know th...  \n",
       "4  \"who do you think should do the killing?\"\\r\\n\\...  "
      ]
     },
     "execution_count": 114,
     "metadata": {},
     "output_type": "execute_result"
    }
   ],
   "source": [
    "train.head()"
   ]
  },
  {
   "cell_type": "code",
   "execution_count": 115,
   "metadata": {},
   "outputs": [],
   "source": [
    "# Make a list of list with character offsets of dataset\n",
    "\n",
    "spans = []\n",
    "\n",
    "for i, row in train.iterrows():\n",
    "    to_append_list = [int(x) for x in str(train[\"spans\"].iloc[i])[1:len(train[\"spans\"].iloc[i])-1].split(\", \") if len(x) > 0]\n",
    "    spans.append(to_append_list)"
   ]
  },
  {
   "cell_type": "code",
   "execution_count": 117,
   "metadata": {},
   "outputs": [],
   "source": [
    "# Group non-contiguous spans\n",
    "\n",
    "import more_itertools as mit\n",
    "span_grouped = []\n",
    "\n",
    "for i in range(len(spans)):\n",
    "    span_grouped.append([list(group) for group in mit.consecutive_groups(spans[i])])"
   ]
  },
  {
   "cell_type": "code",
   "execution_count": 101,
   "metadata": {},
   "outputs": [],
   "source": [
    "# Find starting and ending offset of non-contiguos offset\n",
    "\n",
    "final = []\n",
    "\n",
    "for i in range(len(span_grouped)):\n",
    "    span_grouped_just_group_sentence = []\n",
    "    for ranges in span_grouped[i]:\n",
    "        span_grouped_just_group_groups = []\n",
    "        if len(ranges) > 0:\n",
    "            span_grouped_just_group_groups = [ranges[0],ranges[-1]]\n",
    "        \n",
    "        span_grouped_just_group_sentence.append(span_grouped_just_group_groups)\n",
    "        \n",
    "    final.append(span_grouped_just_group_sentence)     "
   ]
  },
  {
   "cell_type": "code",
   "execution_count": 103,
   "metadata": {},
   "outputs": [],
   "source": [
    "count_spans = [item for sublist in final for item in sublist]"
   ]
  },
  {
   "cell_type": "code",
   "execution_count": 105,
   "metadata": {},
   "outputs": [],
   "source": [
    "texts = list(train[\"text\"])"
   ]
  },
  {
   "cell_type": "code",
   "execution_count": 106,
   "metadata": {},
   "outputs": [],
   "source": [
    "only_spans = []\n",
    "\n",
    "for i in range(len(final)):\n",
    "    sentence_spans = []\n",
    "    for j in range(len(final[i])):\n",
    "        text = texts[i][final[i][j][0]:final[i][j][1]+1]\n",
    "        sentence_spans.append(text)\n",
    "    only_spans.append(sentence_spans)     "
   ]
  },
  {
   "cell_type": "code",
   "execution_count": 108,
   "metadata": {},
   "outputs": [],
   "source": [
    "all_length = []\n",
    "count_span = 0\n",
    "for sentence_span in only_spans:\n",
    "    for span in sentence_span:\n",
    "        all_length.append(len(span.split(\" \")))\n",
    "        count_span += 1"
   ]
  },
  {
   "cell_type": "code",
   "execution_count": 109,
   "metadata": {},
   "outputs": [],
   "source": [
    "# To make span length as a list of lists\n",
    "\n",
    "#all_length = []\n",
    "#count_span = 0\n",
    "#for sentence_span in only_spans:\n",
    "#    sentence_span_length = []\n",
    "#    for span in sentence_span:\n",
    "#        sentence_span_length.append(len(span.split(\" \")))\n",
    "#    all_length.append(sentence_span_length)"
   ]
  },
  {
   "cell_type": "code",
   "execution_count": 110,
   "metadata": {},
   "outputs": [
    {
     "data": {
      "text/plain": [
       "2.4280442804428044"
      ]
     },
     "execution_count": 110,
     "metadata": {},
     "output_type": "execute_result"
    }
   ],
   "source": [
    "sum(all_length) / 10298"
   ]
  },
  {
   "cell_type": "code",
   "execution_count": 111,
   "metadata": {},
   "outputs": [],
   "source": [
    "from collections import Counter"
   ]
  },
  {
   "cell_type": "code",
   "execution_count": 112,
   "metadata": {},
   "outputs": [
    {
     "data": {
      "text/plain": [
       "Counter({4: 231,\n",
       "         1: 6837,\n",
       "         2: 1800,\n",
       "         6: 123,\n",
       "         7: 88,\n",
       "         5: 163,\n",
       "         8: 65,\n",
       "         3: 614,\n",
       "         26: 7,\n",
       "         28: 7,\n",
       "         30: 7,\n",
       "         12: 22,\n",
       "         9: 37,\n",
       "         14: 15,\n",
       "         13: 23,\n",
       "         10: 35,\n",
       "         21: 8,\n",
       "         32: 5,\n",
       "         66: 2,\n",
       "         20: 9,\n",
       "         56: 1,\n",
       "         11: 40,\n",
       "         17: 18,\n",
       "         49: 2,\n",
       "         142: 1,\n",
       "         174: 1,\n",
       "         16: 9,\n",
       "         15: 15,\n",
       "         25: 6,\n",
       "         23: 8,\n",
       "         27: 5,\n",
       "         52: 1,\n",
       "         35: 1,\n",
       "         18: 14,\n",
       "         22: 3,\n",
       "         53: 4,\n",
       "         175: 1,\n",
       "         57: 3,\n",
       "         50: 2,\n",
       "         29: 10,\n",
       "         19: 8,\n",
       "         24: 5,\n",
       "         34: 3,\n",
       "         36: 1,\n",
       "         41: 1,\n",
       "         158: 1,\n",
       "         132: 1,\n",
       "         33: 2,\n",
       "         38: 1,\n",
       "         31: 3,\n",
       "         88: 1,\n",
       "         59: 1,\n",
       "         84: 1,\n",
       "         161: 1,\n",
       "         44: 3,\n",
       "         101: 1,\n",
       "         69: 1,\n",
       "         42: 4,\n",
       "         51: 2,\n",
       "         82: 1,\n",
       "         166: 1,\n",
       "         45: 1,\n",
       "         54: 1,\n",
       "         47: 1,\n",
       "         92: 1,\n",
       "         108: 1,\n",
       "         99: 1,\n",
       "         74: 1,\n",
       "         152: 1,\n",
       "         63: 1,\n",
       "         43: 1,\n",
       "         55: 1,\n",
       "         39: 1})"
      ]
     },
     "execution_count": 112,
     "metadata": {},
     "output_type": "execute_result"
    }
   ],
   "source": [
    "Counter(all_length)"
   ]
  }
 ],
 "metadata": {
  "kernelspec": {
   "display_name": "Python 3",
   "language": "python",
   "name": "python3"
  },
  "language_info": {
   "codemirror_mode": {
    "name": "ipython",
    "version": 3
   },
   "file_extension": ".py",
   "mimetype": "text/x-python",
   "name": "python",
   "nbconvert_exporter": "python",
   "pygments_lexer": "ipython3",
   "version": "3.7.3"
  }
 },
 "nbformat": 4,
 "nbformat_minor": 2
}
