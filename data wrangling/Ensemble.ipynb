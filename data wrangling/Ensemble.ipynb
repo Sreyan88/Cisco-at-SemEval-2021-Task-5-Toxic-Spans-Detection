{
 "cells": [
  {
   "cell_type": "code",
   "execution_count": 1,
   "metadata": {},
   "outputs": [],
   "source": [
    "import os"
   ]
  },
  {
   "cell_type": "code",
   "execution_count": 2,
   "metadata": {},
   "outputs": [],
   "source": [
    "files = os.listdir(\"./\")"
   ]
  },
  {
   "cell_type": "code",
   "execution_count": 3,
   "metadata": {},
   "outputs": [],
   "source": [
    "# Import files\n",
    "\n",
    "all_pred = []\n",
    "for item in files:\n",
    "    if item[-4:] == \".txt\" and item != \"ensemble.txt\":\n",
    "        with open(item, 'r') as file:\n",
    "            lines = file.readlines()\n",
    "        answer_pred = []\n",
    "        answers_pred = []\n",
    "        for line in lines:\n",
    "            if not (line.isspace()):\n",
    "                feats = line.strip().split()\n",
    "                answer_pred.append(feats[1])\n",
    "        \n",
    "            else:\n",
    "                answers_pred.append(answer_pred)\n",
    "                answer_pred= []\n",
    "        all_pred.append(answers_pred)\n",
    "        file.close()"
   ]
  },
  {
   "cell_type": "code",
   "execution_count": 5,
   "metadata": {},
   "outputs": [],
   "source": [
    "# Function to calculate majority element\n",
    "\n",
    "from collections import Counter \n",
    "\n",
    "def majority(arr): \n",
    "  \n",
    "    # convert array into dictionary \n",
    "    freqDict = Counter(arr) \n",
    "  \n",
    "    # traverse dictionary and check majority element \n",
    "    size = len(arr) \n",
    "    for (key,val) in freqDict.items(): \n",
    "         if (val > (size/2)): \n",
    "             #print(key) \n",
    "             return key\n",
    "    print('None') "
   ]
  },
  {
   "cell_type": "code",
   "execution_count": null,
   "metadata": {},
   "outputs": [],
   "source": [
    "# For precitions\n",
    "\n",
    "answer_pred = []\n",
    "answers_pred = []\n",
    "\n",
    "for i in range(2000):\n",
    "    for j in range(len(all_pred[0][i])):\n",
    "        answer = majority([all_pred[z][i][j] for z in range(11)])\n",
    "        answer_pred.append(answer)\n",
    "        \n",
    "    answers_pred.append(answer_pred)\n",
    "    answer_pred = []"
   ]
  },
  {
   "cell_type": "code",
   "execution_count": 7,
   "metadata": {},
   "outputs": [],
   "source": [
    "# For words\n",
    "\n",
    "with open(\"test_preds_final_xlnetchar2.txt\", 'r') as file1:\n",
    "    lines = file1.readlines()\n",
    "\n",
    "answer_token = []\n",
    "answers_token = []\n",
    "\n",
    "for line in lines:\n",
    "    if not (line.isspace()):\n",
    "        feats = line.strip().split()\n",
    "        answer_token.append(feats[0])\n",
    "        \n",
    "    else:\n",
    "        answers_token.append(answer_token)\n",
    "        answer_token= []\n"
   ]
  },
  {
   "cell_type": "code",
   "execution_count": 9,
   "metadata": {},
   "outputs": [],
   "source": [
    "# Write into a file\n",
    "\n",
    "with open('ensemble2.txt', 'w',encoding=\"utf-8\") as f:\n",
    "    for i in range(2000):\n",
    "        for token,pred in zip(answers_token[i],answers_pred[i]):\n",
    "            f.write(f\"{token}\\t{pred}\" + \"\\n\")\n",
    "        f.write(\"\\n\")      "
   ]
  }
 ],
 "metadata": {
  "kernelspec": {
   "display_name": "Python 3",
   "language": "python",
   "name": "python3"
  },
  "language_info": {
   "codemirror_mode": {
    "name": "ipython",
    "version": 3
   },
   "file_extension": ".py",
   "mimetype": "text/x-python",
   "name": "python",
   "nbconvert_exporter": "python",
   "pygments_lexer": "ipython3",
   "version": "3.7.3"
  }
 },
 "nbformat": 4,
 "nbformat_minor": 2
}
