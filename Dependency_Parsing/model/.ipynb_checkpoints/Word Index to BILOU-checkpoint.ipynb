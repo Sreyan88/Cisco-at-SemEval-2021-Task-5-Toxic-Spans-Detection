{
 "cells": [
  {
   "cell_type": "code",
   "execution_count": 1,
   "metadata": {},
   "outputs": [],
   "source": [
    "import jsonlines\n",
    "import json"
   ]
  },
  {
   "cell_type": "code",
   "execution_count": 2,
   "metadata": {},
   "outputs": [],
   "source": [
    "all_batches = []\n",
    "with jsonlines.open('eval.jsonlines') as f:\n",
    "    for line in f.iter():\n",
    "        all_batches.append(line)"
   ]
  },
  {
   "cell_type": "code",
   "execution_count": 3,
   "metadata": {},
   "outputs": [],
   "source": [
    "with open('eng_semeval_6_eval_57.17_test_preds_1000.json') as pred, open('eng_semeval_6_eval_57.17_test_reals_1000.json') as gold:\n",
    "    preds = json.load(pred)\n",
    "    gold = json.load(gold)"
   ]
  },
  {
   "cell_type": "code",
   "execution_count": 7,
   "metadata": {},
   "outputs": [],
   "source": [
    "new_batches = []\n",
    "for i,batch in enumerate(all_batches):\n",
    "    all_preds = [['O']*len(sentence) for sentence in batch['sentences']]\n",
    "    all_reals = [['O']*len(sentence) for sentence in batch['sentences']]\n",
    "    for span in preds[i]:\n",
    "        sentence_id = span[0]\n",
    "        start = span[1]\n",
    "        end = span[2]\n",
    "        if start == end:\n",
    "            all_preds[sentence_id][start] = 'U'\n",
    "        elif (end-start)==1:\n",
    "            all_preds[sentence_id][start] = 'B'\n",
    "            all_preds[sentence_id][end] = 'L'\n",
    "        else:\n",
    "            all_preds[sentence_id][start] = 'B'\n",
    "            all_preds[sentence_id][end] = 'L'\n",
    "            all_preds[sentence_id][start+1:end] = ['I' for _ in range(len(all_preds[sentence_id][start+1:end]))]\n",
    "    \n",
    "    for span in gold[i]:\n",
    "        sentence_id = span[0]\n",
    "        start = span[1]\n",
    "        end = span[2]\n",
    "        if start == end:\n",
    "            all_reals[sentence_id][start] = 'U'\n",
    "        elif (end-start)==1:\n",
    "            all_reals[sentence_id][start] = 'B'\n",
    "            all_reals[sentence_id][end] = 'L'\n",
    "        else:\n",
    "            all_reals[sentence_id][start] = 'B'\n",
    "            all_reals[sentence_id][end] = 'L'\n",
    "            all_reals[sentence_id][start+1:end] = ['I' for _ in range(len(all_preds[sentence_id][start+1:end]))]\n",
    "    batch['pred'] = all_preds\n",
    "    batch['real'] = all_reals\n",
    "    new_batches.append(batch)"
   ]
  },
  {
   "cell_type": "code",
   "execution_count": 10,
   "metadata": {},
   "outputs": [],
   "source": [
    "with open('final_eng_semeval_6_eval_57.17_test.json','w') as f:\n",
    "    json.dump(new_batches,f)"
   ]
  },
  {
   "cell_type": "code",
   "execution_count": null,
   "metadata": {},
   "outputs": [],
   "source": []
  }
 ],
 "metadata": {
  "kernelspec": {
   "display_name": "Python 3",
   "language": "python",
   "name": "python3"
  },
  "language_info": {
   "codemirror_mode": {
    "name": "ipython",
    "version": 3
   },
   "file_extension": ".py",
   "mimetype": "text/x-python",
   "name": "python",
   "nbconvert_exporter": "python",
   "pygments_lexer": "ipython3",
   "version": "3.7.3"
  }
 },
 "nbformat": 4,
 "nbformat_minor": 4
}
